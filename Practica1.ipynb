{
 "cells": [
  {
   "cell_type": "code",
   "execution_count": 2,
   "id": "c7ce988c",
   "metadata": {},
   "outputs": [
    {
     "name": "stdout",
     "output_type": "stream",
     "text": [
      "Escriba su nombre r\n",
      "Escriba su edad 5\n",
      "MI nobre es r, y tengo 5 años\n"
     ]
    }
   ],
   "source": [
    "nombre = input(\"Escriba su nombre \")\n",
    "edad = input(\"Escriba su edad \")\n",
    "\n",
    "print(f\"MI nobre es {nombre}, y tengo {edad} años\")"
   ]
  },
  {
   "cell_type": "code",
   "execution_count": 3,
   "id": "4b42c1e9",
   "metadata": {},
   "outputs": [
    {
     "name": "stdout",
     "output_type": "stream",
     "text": [
      "P\n",
      "a\n",
      "t\n",
      "i\n",
      "t\n",
      "o\n",
      " \n",
      "f\n",
      "e\n",
      "o\n"
     ]
    }
   ],
   "source": [
    "cadena = 'Patito feo'\n",
    "\n",
    "for elemento in cadena:\n",
    "    print(elemento)"
   ]
  },
  {
   "cell_type": "code",
   "execution_count": null,
   "id": "d0339b9a",
   "metadata": {},
   "outputs": [],
   "source": []
  }
 ],
 "metadata": {
  "kernelspec": {
   "display_name": "Python 3 (ipykernel)",
   "language": "python",
   "name": "python3"
  },
  "language_info": {
   "codemirror_mode": {
    "name": "ipython",
    "version": 3
   },
   "file_extension": ".py",
   "mimetype": "text/x-python",
   "name": "python",
   "nbconvert_exporter": "python",
   "pygments_lexer": "ipython3",
   "version": "3.11.5"
  }
 },
 "nbformat": 4,
 "nbformat_minor": 5
}
