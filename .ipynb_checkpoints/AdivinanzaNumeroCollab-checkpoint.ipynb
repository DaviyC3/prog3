{
 "cells": [
  {
   "cell_type": "code",
   "execution_count": null,
   "metadata": {
    "colab": {
     "base_uri": "https://localhost:8080/"
    },
    "id": "d6lRnE0mHdgd",
    "outputId": "7f4b3f74-a639-49a6-fea3-a2e1c302fde5"
   },
   "outputs": [],
   "source": [
    "print('====================================')\n",
    "print('Bienvenido al juego de la adivinanza')\n",
    "print('====================================')\n",
    "\n",
    "numero_secreto =77\n",
    "\n",
    "entrada = int(input('Digite un numero '))\n",
    "# entrada = int(entrada)\n",
    "\n",
    "print('Digitaste...', entrada)\n",
    "\n",
    "if(numero_secreto == entrada):\n",
    "  print('Felicidades!... Adivinaste el numero')\n",
    "else:\n",
    "  print('Lo siento... no lograste adivinar el numero')\n",
    "\n",
    "print('Fin del juego')"
   ]
  },
  {
   "cell_type": "code",
   "execution_count": 6,
   "metadata": {
    "colab": {
     "base_uri": "https://localhost:8080/"
    },
    "id": "lYNzLSLcKbPt",
    "outputId": "b1d28d71-df15-4c4b-baf4-75faa01b72e5"
   },
   "outputs": [
    {
     "data": {
      "text/plain": [
       "int"
      ]
     },
     "execution_count": 6,
     "metadata": {},
     "output_type": "execute_result"
    }
   ],
   "source": [
    "type(entrada)"
   ]
  },
  {
   "cell_type": "code",
   "execution_count": 7,
   "metadata": {
    "colab": {
     "base_uri": "https://localhost:8080/"
    },
    "id": "9pqwZSRKKi4g",
    "outputId": "0ac350f2-51f8-4b6e-8d87-a3bcda517c6b"
   },
   "outputs": [
    {
     "data": {
      "text/plain": [
       "int"
      ]
     },
     "execution_count": 7,
     "metadata": {},
     "output_type": "execute_result"
    }
   ],
   "source": [
    "type(numero_secreto)"
   ]
  },
  {
   "cell_type": "markdown",
   "metadata": {
    "id": "ofLu0PdoLBrb"
   },
   "source": [
    "# Guiar al usuario si el numero ingreado es mayor o menor al numero ingresado, uqe tiene que adivinar"
   ]
  },
  {
   "cell_type": "code",
   "execution_count": null,
   "metadata": {
    "colab": {
     "base_uri": "https://localhost:8080/"
    },
    "id": "dP8NqQi7LX_q",
    "outputId": "9865d769-941d-42e6-d231-eb546c6521a9"
   },
   "outputs": [
    {
     "name": "stdout",
     "output_type": "stream",
     "text": [
      "====================================\n",
      "Bienvenido al juego de la adivinanza\n",
      "====================================\n"
     ]
    }
   ],
   "source": [
    "print('====================================')\n",
    "print('Bienvenido al juego de la adivinanza')\n",
    "print('====================================')\n",
    "\n",
    "numero_secreto = 77\n",
    "\n",
    "entrada = int(input('Digite un numero '))\n",
    "# entrada = int(entrada)\n",
    "\n",
    "print('Digitaste...', entrada)\n",
    "\n",
    "# Pone si es booleano o no\n",
    "\n",
    "acertaste = entrada ==numero_secreto  #iguales\n",
    "mayor = entrada > numero_secreto      # Si es mayor\n",
    "menor = entrada < numero_secreto\n",
    "\n",
    "if(acertaste):\n",
    "  print('Felicidades!... Adivinaste el numero')\n",
    "elif(mayor):\n",
    "  print('Lo siento... el numero que ingresaste es mayor')\n",
    "else:\n",
    "  print('Lo siento... el numero que ingresaste es menor')\n",
    "\n",
    "print('Fin del juego')"
   ]
  },
  {
   "cell_type": "markdown",
   "metadata": {
    "id": "TflnUcRsPV1t"
   },
   "source": [
    "# Implementar iteracion"
   ]
  },
  {
   "cell_type": "code",
   "execution_count": 10,
   "metadata": {
    "colab": {
     "base_uri": "https://localhost:8080/"
    },
    "id": "vLzQGhuUPT4l",
    "outputId": "a0c8545b-9117-4047-cba3-08cfaa93ebdd"
   },
   "outputs": [
    {
     "name": "stdout",
     "output_type": "stream",
     "text": [
      "====================================\n",
      "Bienvenido al juego de la adivinanza\n",
      "====================================\n",
      "Intento:  1  de  3\n",
      "Digite un numero 3\n",
      "Digitaste... 3\n",
      "Lo siento... el numero que ingresaste es menor\n",
      "Intento:  2  de  3\n",
      "Digite un numero 5\n",
      "Digitaste... 5\n",
      "Lo siento... el numero que ingresaste es menor\n",
      "Intento:  3  de  3\n",
      "Digite un numero 77\n",
      "Digitaste... 77\n",
      "Felicidades!... Adivinaste el numero\n",
      "Fin del juego\n"
     ]
    }
   ],
   "source": [
    "print('====================================')\n",
    "print('Bienvenido al juego de la adivinanza')\n",
    "print('====================================')\n",
    "\n",
    "numero_secreto =77\n",
    "total_intentos = 3\n",
    "iteracion = 1\n",
    "\n",
    "while(iteracion<= total_intentos):\n",
    "  print('Intento: ', iteracion, ' de ',total_intentos)\n",
    "  entrada = input('Digite un numero ')\n",
    "  entrada = int(entrada)\n",
    "  print('Digitaste...', entrada)\n",
    "\n",
    "  # Pone si es booleano o no\n",
    "\n",
    "  acertaste = entrada ==numero_secreto  #iguales\n",
    "  mayor = entrada > numero_secreto      # Si es mayor\n",
    "  menor = entrada < numero_secreto\n",
    "\n",
    "  if(acertaste):\n",
    "    print('Felicidades!... Adivinaste el numero')\n",
    "  elif(mayor):\n",
    "    print('Lo siento... el numero que ingresaste es mayor')\n",
    "  else:\n",
    "    print('Lo siento... el numero que ingresaste es menor')\n",
    "\n",
    "  iteracion += 1;\n",
    "\n",
    "\n",
    "print('Fin del juego')"
   ]
  },
  {
   "cell_type": "markdown",
   "metadata": {
    "id": "th7dftuwSq15"
   },
   "source": [
    "Mejorando el codigo ..."
   ]
  },
  {
   "cell_type": "code",
   "execution_count": 11,
   "metadata": {
    "colab": {
     "base_uri": "https://localhost:8080/"
    },
    "id": "8nTHjBcCSqA1",
    "outputId": "417f66a4-b816-4c3f-b468-deea757bd11f"
   },
   "outputs": [
    {
     "name": "stdout",
     "output_type": "stream",
     "text": [
      "====================================\n",
      "Bienvenido al juego de la adivinanza\n",
      "====================================\n",
      "Intento: 1 de 3 \n",
      "Digite un numero 4\n",
      "Digitaste... 4\n",
      "Lo siento... el numero que ingresaste es menor\n",
      "Intento: 2 de 3 \n",
      "Digite un numero 67\n",
      "Digitaste... 67\n",
      "Lo siento... el numero que ingresaste es menor\n",
      "Intento: 3 de 3 \n",
      "Digite un numero 77\n",
      "Digitaste... 77\n",
      "Felicidades!... Adivinaste el numero\n",
      "Fin del juego\n"
     ]
    }
   ],
   "source": [
    "print('====================================')\n",
    "print('Bienvenido al juego de la adivinanza')\n",
    "print('====================================')\n",
    "\n",
    "numero_secreto =77\n",
    "total_intentos = 3\n",
    "iteracion = 1\n",
    "\n",
    "while(iteracion<= total_intentos):\n",
    "  print('Intento: {} de {} '.format(iteracion, total_intentos))\n",
    "  entrada = input('Digite un numero ')\n",
    "  entrada = int(entrada)\n",
    "  print('Digitaste...', entrada)\n",
    "\n",
    "  # Pone si es booleano o no\n",
    "\n",
    "  acertaste = entrada ==numero_secreto  #iguales\n",
    "  mayor = entrada > numero_secreto      # Si es mayor\n",
    "  menor = entrada < numero_secreto      # Si es menor\n",
    "\n",
    "  if(acertaste):\n",
    "    print('Felicidades!... Adivinaste el numero')\n",
    "  elif(mayor):\n",
    "    print('Lo siento... el numero que ingresaste es mayor')\n",
    "  else:\n",
    "    print('Lo siento... el numero que ingresaste es menor')\n",
    "\n",
    "  iteracion += 1;\n",
    "\n",
    "\n",
    "print('Fin del juego')"
   ]
  },
  {
   "cell_type": "markdown",
   "metadata": {
    "id": "sDMBBtUTUAr6"
   },
   "source": [
    "# Utilizando la sentencia LOOP, en un Rando (n1,n2,n3) for in range"
   ]
  },
  {
   "cell_type": "code",
   "execution_count": 14,
   "metadata": {
    "colab": {
     "base_uri": "https://localhost:8080/"
    },
    "id": "mT76CaYWT2BA",
    "outputId": "8493705b-1944-4887-dc82-3b978b29f6a6"
   },
   "outputs": [
    {
     "name": "stdout",
     "output_type": "stream",
     "text": [
      "====================================\n",
      "Bienvenido al juego de la adivinanza\n",
      "====================================\n",
      "Intento: 1 de 3 \n",
      "ngresar un numero entre 1 y 100 120\n",
      "Digitaste... 120\n",
      "Ingresar un numero entre 1 y 100\n",
      "Intento: 2 de 3 \n",
      "ngresar un numero entre 1 y 100 6\n",
      "Digitaste... 6\n",
      "Lo siento... el numero que ingresaste es menor\n",
      "Intento: 3 de 3 \n",
      "ngresar un numero entre 1 y 100 77\n",
      "Digitaste... 77\n",
      "Felicidades!... Adivinaste el numero\n",
      "Fin del juego\n"
     ]
    }
   ],
   "source": [
    "print('====================================')\n",
    "print('Bienvenido al juego de la adivinanza')\n",
    "print('====================================')\n",
    "\n",
    "numero_secreto =77\n",
    "total_intentos = 3\n",
    "iteracion = 1\n",
    "\n",
    "for iteracion in range(1, total_intentos + 1):\n",
    "  print('Intento: {} de {} '.format(iteracion, total_intentos))\n",
    "  entrada = input('ngresar un numero entre 1 y 100 ')\n",
    "  entrada = int(entrada)\n",
    "  print('Digitaste...', entrada)\n",
    "  if(entrada<1 or entrada>100):\n",
    "    print('Ingresar un numero entre 1 y 100')\n",
    "    continue\n",
    "\n",
    "  # Pone si es booleano o no\n",
    "\n",
    "  acertaste = entrada == numero_secreto  #iguales\n",
    "  mayor = entrada > numero_secreto      # Si es mayor\n",
    "  menor = entrada < numero_secreto      # Si es menor\n",
    "\n",
    "  if(acertaste):\n",
    "    print('Felicidades!... Adivinaste el numero')\n",
    "    break\n",
    "  elif(mayor):\n",
    "    print('Lo siento... el numero que ingresaste es mayor')\n",
    "  else:\n",
    "    print('Lo siento... el numero que ingresaste es menor')\n",
    "\n",
    "  iteracion += 1;\n",
    "\n",
    "\n",
    "print('Fin del juego')"
   ]
  },
  {
   "cell_type": "markdown",
   "metadata": {
    "id": "H3uk7tV3WR6e"
   },
   "source": [
    "# Generar un numero aleatorio ... RANDOM"
   ]
  },
  {
   "cell_type": "code",
   "execution_count": 15,
   "metadata": {
    "colab": {
     "base_uri": "https://localhost:8080/"
    },
    "id": "e8J2iN8YWQDY",
    "outputId": "d62147b9-c0a5-4063-a2a6-1b3c4ee6074b"
   },
   "outputs": [
    {
     "data": {
      "text/plain": [
       "0.17592097668619178"
      ]
     },
     "execution_count": 15,
     "metadata": {},
     "output_type": "execute_result"
    }
   ],
   "source": [
    "# GEnerar numero aleatorio\n",
    "import random\n",
    "random.random()"
   ]
  },
  {
   "cell_type": "code",
   "execution_count": 16,
   "metadata": {
    "colab": {
     "base_uri": "https://localhost:8080/"
    },
    "id": "bFRKmaCSWnAf",
    "outputId": "cda86202-ba26-41ba-8d58-5213401bff71"
   },
   "outputs": [
    {
     "data": {
      "text/plain": [
       "0.7604886511396294"
      ]
     },
     "execution_count": 16,
     "metadata": {},
     "output_type": "execute_result"
    }
   ],
   "source": [
    "random.random()"
   ]
  },
  {
   "cell_type": "code",
   "execution_count": 19,
   "metadata": {
    "colab": {
     "base_uri": "https://localhost:8080/"
    },
    "id": "nKT_PeSjWuC9",
    "outputId": "f0824874-8ef5-4f3b-ac9c-8c9d158f1272"
   },
   "outputs": [
    {
     "data": {
      "text/plain": [
       "11.12301869797484"
      ]
     },
     "execution_count": 19,
     "metadata": {},
     "output_type": "execute_result"
    }
   ],
   "source": [
    "numero_random = random.random() * 100\n",
    "numero_random"
   ]
  },
  {
   "cell_type": "code",
   "execution_count": 17,
   "metadata": {
    "colab": {
     "base_uri": "https://localhost:8080/"
    },
    "id": "zytJCNPeXQZ1",
    "outputId": "6501831a-ae36-4237-c408-63f97a394b51"
   },
   "outputs": [
    {
     "data": {
      "text/plain": [
       "15"
      ]
     },
     "execution_count": 17,
     "metadata": {},
     "output_type": "execute_result"
    }
   ],
   "source": [
    "numero_random = round(random.random() * 100)\n",
    "numero_random"
   ]
  },
  {
   "cell_type": "markdown",
   "metadata": {
    "id": "0F002diYXkCN"
   },
   "source": [
    "# Generar un numero entre 1 y 100"
   ]
  },
  {
   "cell_type": "code",
   "execution_count": 21,
   "metadata": {
    "colab": {
     "base_uri": "https://localhost:8080/"
    },
    "id": "UOy7cai_XjWb",
    "outputId": "b6ebfb62-615b-45a6-ea65-060b1668ec0e"
   },
   "outputs": [
    {
     "data": {
      "text/plain": [
       "19"
      ]
     },
     "execution_count": 21,
     "metadata": {},
     "output_type": "execute_result"
    }
   ],
   "source": [
    "numero_random = random.randrange(1, 101)\n",
    "numero_random"
   ]
  },
  {
   "cell_type": "markdown",
   "metadata": {
    "id": "Co1KdaS6Yai9"
   },
   "source": [
    "... Mejo"
   ]
  },
  {
   "cell_type": "code",
   "execution_count": 22,
   "metadata": {
    "colab": {
     "base_uri": "https://localhost:8080/"
    },
    "id": "0aEU2YpAYBw6",
    "outputId": "6ade10a0-21d2-46e3-f986-3f95619f2444"
   },
   "outputs": [
    {
     "name": "stdout",
     "output_type": "stream",
     "text": [
      "====================================\n",
      "Bienvenido al juego de la adivinanza\n",
      "====================================\n",
      "Numero secreto=  94\n",
      "Intento: 1 de 15 \n",
      "ngresar un numero entre 1 y 100 50\n",
      "Digitaste... 50\n",
      "Lo siento... el numero que ingresaste es menor\n",
      "Intento: 2 de 15 \n",
      "ngresar un numero entre 1 y 100 75\n",
      "Digitaste... 75\n",
      "Lo siento... el numero que ingresaste es menor\n",
      "Intento: 3 de 15 \n",
      "ngresar un numero entre 1 y 100 94\n",
      "Digitaste... 94\n",
      "Felicidades!... Adivinaste el numero\n",
      "Fin del juego\n"
     ]
    }
   ],
   "source": [
    "import random\n",
    "print('====================================')\n",
    "print('Bienvenido al juego de la adivinanza')\n",
    "print('====================================')\n",
    "\n",
    "numero_secreto = random.randrange(1, 101)\n",
    "\n",
    "print('Numero secreto= ', numero_secreto)\n",
    "\n",
    "total_intentos = 15\n",
    "\n",
    "for iteracion in range(1, total_intentos + 1):\n",
    "  print('Intento: {} de {} '.format(iteracion, total_intentos))\n",
    "  entrada = input('ngresar un numero entre 1 y 100 ')\n",
    "  entrada = int(entrada)\n",
    "  print('Digitaste...', entrada)\n",
    "  if(entrada<1 or entrada>100):\n",
    "    print('Ingresar un numero entre 1 y 100')\n",
    "    continue\n",
    "\n",
    "  # Pone si es booleano o no\n",
    "\n",
    "  acertaste = entrada == numero_secreto  #iguales\n",
    "  mayor = entrada > numero_secreto      # Si es mayor\n",
    "  menor = entrada < numero_secreto      # Si es menor\n",
    "\n",
    "  if(acertaste):\n",
    "    print('Felicidades!... Adivinaste el numero')\n",
    "    break\n",
    "  elif(mayor):\n",
    "    print('Lo siento... el numero que ingresaste es mayor')\n",
    "  else:\n",
    "    print('Lo siento... el numero que ingresaste es menor')\n",
    "\n",
    "  iteracion += 1;\n",
    "\n",
    "\n",
    "print('Fin del juego')"
   ]
  },
  {
   "cell_type": "markdown",
   "metadata": {
    "id": "frnKtE1TazQR"
   },
   "source": [
    "# ...Definiendo el nivel de dificultad"
   ]
  },
  {
   "cell_type": "code",
   "execution_count": null,
   "metadata": {
    "colab": {
     "base_uri": "https://localhost:8080/"
    },
    "id": "jqx2QGQsa2W4",
    "outputId": "e67f9fda-4aba-4036-8a94-bb895ab89bcf"
   },
   "outputs": [],
   "source": [
    "import random\n",
    "print('====================================')\n",
    "print('Bienvenido al juego de la adivinanza')\n",
    "print('====================================')\n",
    "\n",
    "numero_secreto = random.randrange(1, 101)\n",
    "\n",
    "print('Seleccione el nivel de dificultad')\n",
    "print('(1) Facil (2) Medio (2) Dificil')\n",
    "\n",
    "nivel = int(input('Ingrese nivel de dificultad '))\n",
    "\n",
    "# Establecer nivel\n",
    "\n",
    "if (nivel == 1):\n",
    "  total_intentos = 20\n",
    "elif (nivel == 2):\n",
    "  total_intentos = 10\n",
    "else:\n",
    "  total_intentos = 5\n",
    "\n",
    "print('Numero secreto= ', numero_secreto)\n",
    "\n",
    "for iteracion in range(1, total_intentos + 1):\n",
    "  print('Intento: {} de {} '.format(iteracion, total_intentos))\n",
    "  entrada = input('ngresar un numero entre 1 y 100 ')\n",
    "  entrada = int(entrada)\n",
    "  print('Digitaste...', entrada)\n",
    "  if(entrada<1 or entrada>100):\n",
    "    print('Ingresar un numero entre 1 y 100')\n",
    "    continue\n",
    "\n",
    "  # Pone si es booleano o no\n",
    "\n",
    "  acertaste = entrada == numero_secreto  #iguales\n",
    "  mayor = entrada > numero_secreto      # Si es mayor\n",
    "  menor = entrada < numero_secreto      # Si es menor\n",
    "\n",
    "  if(acertaste):\n",
    "    print('Felicidades!... Adivinaste el numero')\n",
    "    break\n",
    "  elif(mayor):\n",
    "    print('Lo siento... el numero que ingresaste es mayor')\n",
    "  else:\n",
    "    print('Lo siento... el numero que ingresaste es menor')\n",
    "\n",
    "  iteracion += 1;\n",
    "\n",
    "\n",
    "print('Fin del juego')"
   ]
  },
  {
   "cell_type": "code",
   "execution_count": null,
   "metadata": {},
   "outputs": [],
   "source": []
  },
  {
   "cell_type": "code",
   "execution_count": null,
   "metadata": {},
   "outputs": [],
   "source": []
  }
 ],
 "metadata": {
  "colab": {
   "provenance": []
  },
  "kernelspec": {
   "display_name": "Python 3 (ipykernel)",
   "language": "python",
   "name": "python3"
  },
  "language_info": {
   "codemirror_mode": {
    "name": "ipython",
    "version": 3
   },
   "file_extension": ".py",
   "mimetype": "text/x-python",
   "name": "python",
   "nbconvert_exporter": "python",
   "pygments_lexer": "ipython3",
   "version": "3.11.5"
  }
 },
 "nbformat": 4,
 "nbformat_minor": 1
}
